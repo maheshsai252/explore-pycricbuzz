{
 "cells": [
  {
   "cell_type": "code",
   "execution_count": 1,
   "metadata": {},
   "outputs": [],
   "source": [
    "from pycricbuzz import Cricbuzz"
   ]
  },
  {
   "cell_type": "code",
   "execution_count": 2,
   "metadata": {},
   "outputs": [],
   "source": [
    "from pprint import pprint\n",
    "import json"
   ]
  },
  {
   "cell_type": "code",
   "execution_count": 3,
   "metadata": {},
   "outputs": [],
   "source": [
    "c=Cricbuzz()"
   ]
  },
  {
   "cell_type": "code",
   "execution_count": 6,
   "metadata": {},
   "outputs": [
    {
     "name": "stdout",
     "output_type": "stream",
     "text": [
      "[{'id': '26792', 'srs': 'West Indies tour of Sri Lanka 2020', 'mnum': '3rd ODI', 'type': 'ODI', 'mchstate': 'inprogress', 'status': 'SL opt to bat', 'venue_name': 'Pallekele International Cricket Stadium', 'venue_location': 'Pallekele, Sri Lanka', 'toss': 'Sri Lanka elect to bat', 'official': {'umpire1': {'id': '8572', 'name': 'Raveendra Wimalasiri', 'country': 'SL'}, 'umpire2': {'id': '4758', 'name': 'Paul Wilson', 'country': 'AUS'}, 'umpire3': {'id': '6843', 'name': 'Marais Erasmus', 'country': 'RSA'}, 'referee': {'id': '3894', 'name': 'Javagal Srinath', 'country': 'IND'}}, 'start_time': '2020-03-01 14:30:00', 'team1': {'name': 'Sri Lanka', 'squad': ['Avishka Fernando', 'Karunaratne', 'Kusal Perera', 'Kusal Mendis', 'Perera', 'Mathews', 'Dhananjaya de Silva', 'Hasaranga', 'Udana', 'Sandakan', 'Pradeep'], 'squad_bench': ['Jayasuriya', 'Dickwella', 'Shanaka', 'Kumara']}, 'team2': {'name': 'West Indies', 'squad': ['Shai Hope', 'Ambris', 'Darren Bravo', 'Roston Chase', 'Pooran', 'Pollard', 'Holder', 'Fabian Allen', 'Alzarri Joseph', 'Cottrell', 'Hayden Walsh'], 'squad_bench': ['Keemo Paul', 'Brandon King', 'Powell', 'Romario Shepherd']}}, {'id': '27016', 'srs': 'Zimbabwe tour of Bangladesh 2020', 'mnum': '1st ODI', 'type': 'ODI', 'mchstate': 'innings break', 'status': 'Innings Break', 'venue_name': 'Sylhet International Cricket Stadium', 'venue_location': 'Sylhet, Bangladesh', 'toss': 'Bangladesh elect to bat', 'official': {'umpire1': {'id': '3576', 'name': 'Kumar Dharmasena', 'country': 'SL'}, 'umpire2': {'id': '7514', 'name': 'Masudur Rahman', 'country': 'BAN'}, 'umpire3': {'id': '4730', 'name': 'Paul Reiffel', 'country': 'AUS'}, 'referee': {'id': '4033', 'name': 'Jeff Crowe', 'country': 'NZ'}}, 'start_time': '2020-03-01 12:30:00', 'team1': {'name': 'Bangladesh', 'squad': ['Tamim', 'Shanto', 'Liton Das', 'Rahim', 'Mithun', 'Mahmudullah', 'Mehidy Hasan', 'Saifuddin', 'Taijul Islam', 'Mortaza', 'Mustafizur'], 'squad_bench': ['Naim', 'Al-Amin', 'Afif Hossain', 'Shafiul']}, 'team2': {'name': 'Zimbabwe', 'squad': ['Chibhabha', 'Kamunhukamwe', 'Brendan Taylor', 'Raza', 'Chakabva', 'Mutumbami', 'Mutombodzi', 'Tiripano', 'Madhevere', 'Mpofu', 'Mumba'], 'squad_bench': ['Ervine', 'Williams', 'Maruma', 'Ndlovu', 'Tshuma']}}, {'id': '22782', 'srs': 'India tour of New Zealand 2020', 'mnum': '2nd Test', 'type': 'TEST', 'mchstate': 'stump', 'status': 'Day 2: Stumps - IND lead by 97 runs', 'venue_name': 'Hagley Oval', 'venue_location': 'Christchurch, New Zealand', 'toss': 'New Zealand elect to bowl', 'official': {'umpire1': {'id': '8034', 'name': 'Michael Gough', 'country': 'ENG'}, 'umpire2': {'id': '6866', 'name': 'Richard Kettleborough', 'country': 'ENG'}, 'umpire3': {'id': '6845', 'name': 'Aleem Dar', 'country': 'PAK'}, 'referee': {'id': '3513', 'name': 'Ranjan Madugalle', 'country': 'SL'}}, 'start_time': '2020-02-29 04:00:00', 'team1': {'name': 'New Zealand', 'squad': ['Latham', 'Tom Blundell', 'Williamson', 'Ross Taylor', 'Henry Nicholls', 'Watling', 'de Grandhomme', 'Jamieson', 'Southee', 'Wagner', 'Boult'], 'squad_bench': ['Matt Henry', 'Daryl Mitchell', 'Ajaz Patel']}, 'team2': {'name': 'India', 'squad': ['Prithvi Shaw', 'Agarwal', 'Pujara', 'Kohli', 'Rahane', 'Hanuma Vihari', 'Pant', 'Jadeja', 'U Yadav', 'Shami', 'Bumrah'], 'squad_bench': ['W Saha', 'Navdeep Saini', 'Shubman Gill', 'Ashwin']}}, {'id': '22661', 'srs': 'Australia tour of South Africa 2020', 'mnum': '1st ODI', 'type': 'ODI', 'mchstate': 'mom', 'status': 'RSA won by 74 runs', 'venue_name': 'Boland Park', 'venue_location': 'Paarl, South Africa', 'toss': 'South Africa elect to bat', 'official': {'umpire1': {'id': '8112', 'name': 'Adrian Holdstock', 'country': 'RSA'}, 'umpire2': {'id': '6844', 'name': 'Nigel Llong', 'country': 'ENG'}, 'umpire3': {'id': '5398', 'name': 'Richard Illingworth', 'country': 'ENG'}, 'referee': {'id': '3395', 'name': 'Andy Pycroft', 'country': 'ZIM'}}, 'start_time': '2020-02-29 16:30:00', 'team1': {'name': 'South Africa', 'squad': ['de Kock', 'Janneman Malan', 'Bavuma', 'Verreynne', 'Klaasen', 'Miller', 'Phehlukwayo', 'Maharaj', 'Nortje', 'Ngidi', 'Shamsi'], 'squad_bench': ['Smuts', 'Sipamla', 'Hendricks']}, 'team2': {'name': 'Australia', 'squad': ['Warner', 'Finch', 'Smith', 'Labuschagne', 'Mitchell Marsh', 'Carey', 'D Arcy Short', 'Starc', 'Cummins', 'Zampa', 'Hazlewood'], 'squad_bench': ['Agar', 'Wade', 'J Richardson', 'K Richardson']}}, {'id': '28312', 'srs': 'ACC Eastern Region T20 2020', 'mnum': '4th Mattch', 'type': 'T20', 'mchstate': 'complete', 'status': 'MLY won by 8 wkts', 'venue_name': 'Terdthai Cricket Ground', 'venue_location': 'Bangkok, Thailand', 'toss': 'Thailand elect to bat', 'official': None, 'start_time': '2020-03-01 12:00:00', 'team1': {'name': 'Thailand', 'squad': ['Daniel Jacobs', 'Uisuk', 'Henno Jordaan', 'Naveed Pathan', 'Suanchuai', 'Robert Raina', 'Ziaul Hoque', 'Mahsid Faheem', 'Nopphon Senamontree', 'Vichanath Singh', 'Desungnoen'], 'squad_bench': ['Ismail Sardar', 'Kamron Senamontree', 'Chanchai Pengkumta']}, 'team2': {'name': 'Malaysia', 'squad': ['Virandeep Singh', 'Anwar Arudin', 'Khizar Hayat', 'Aminuddin', 'Nazril Rahman', 'Pavandeep', 'Anwar Rahman', 'Faiz', 'Sharvin Muniandy', 'Syazrul Idrus', 'Syed Aziz'], 'squad_bench': ['Mohamed Arief', 'Fitri Sham', 'Dhivendran Mogan']}}, {'id': '28305', 'srs': 'ACC Eastern Region T20 2020', 'mnum': '3rd Match', 'type': 'T20', 'mchstate': 'complete', 'status': 'HK won by 43 runs', 'venue_name': 'Terdthai Cricket Ground', 'venue_location': 'Bangkok, Thailand', 'toss': 'Nepal elect to bowl', 'official': {'umpire1': {'id': '12176', 'name': 'Viswanadan Kalidas', 'country': 'MLY'}, 'umpire2': {'id': '11356', 'name': 'Akbar Ali', 'country': 'UAE'}}, 'start_time': '2020-03-01 08:00:00', 'team1': {'name': 'Nepal', 'squad': ['Kushal Malla', 'Gyanu Malla', 'Khadka', 'Dipendra Singh', 'Pawan Sarraf', 'Bhandari', 'Aarif Sheikh', 'Karan KC', 'Lamichhane', 'Sushan Bhari', 'Abinash Bohara'], 'squad_bench': ['Kishore Mahato', 'Sundeep Jora', 'Karki']}, 'team2': {'name': 'Hong Kong', 'squad': ['Shahid Wasif', 'Nizakat Khan', 'Haroon Arshad', 'KD Shah', 'Aizaz Khan', 'Jamie Atkinson', 'Waqas Khan', 'Scott McKechnie', 'Ehsan Khan', 'Aftab Hussain', 'Barkat'], 'squad_bench': ['Hamed Khan', 'Mohammad Ghazanfar', 'Mohsin Khan', 'Nasrulla Rana']}}, {'id': '27261', 'srs': 'Pakistan Super League 2020', 'mnum': '14th Match', 'type': 'T20', 'mchstate': 'preview', 'status': 'Starts in 2 hrs 59 mins', 'venue_name': 'Rawalpindi Cricket Stadium', 'venue_location': 'Rawalpindi, Pakistan', 'toss': '', 'official': None, 'start_time': '2020-03-01 19:30:00', 'team1': {'name': 'Islamabad United', 'squad': [], 'squad_bench': ['Ronchi', 'Shadab Khan', 'Munro', 'Malan', 'Ingram', 'Asif Ali', 'Faheem Ashraf', 'Ahmed Safi Abdullah', 'Muhammad Musa', 'Raees', 'Steyn', 'Gohar', 'Talat', 'Philip Salt', 'Saif Badar', 'Rizwan Hussain', 'Akif Javed', 'Amad Butt']}, 'team2': {'name': 'Karachi Kings', 'squad': [], 'squad_bench': ['Walton', 'Imad Wasim', 'Sharjeel Khan', 'Babar Azam', 'Hales', 'Delport', 'Iftikhar Ahmed', 'Jordan', 'U Asif', 'Umer Khan', 'Amir', 'McClenaghan', 'Zia', 'Rizwan', 'Aamer Yamin', 'Usama Mir', 'Ali Khan', 'Arshad Iqbal']}}, {'id': '22321', 'srs': 'ICC Womens T20 World Cup 2020', 'mnum': '16th Match, Group B', 'type': 'T20', 'mchstate': 'complete', 'status': 'ENG Women won by 46 runs', 'venue_name': 'Sydney Showground Stadium', 'venue_location': 'Sydney, Australia', 'toss': 'England Women elect to bat', 'official': {'umpire1': {'id': '10740', 'name': 'Claire Polosak', 'country': 'AUS'}, 'umpire2': {'id': '10749', 'name': 'Chris Brown', 'country': 'NZ'}, 'umpire3': {'id': '14344', 'name': 'Kim Cotton', 'country': 'NZ'}, 'referee': {'id': '9242', 'name': 'Steve Bernard', 'country': 'AUS'}}, 'start_time': '2020-03-01 13:30:00', 'team1': {'name': 'England Women', 'squad': ['Wyatt', 'Jones', 'Sciver', 'Knight', 'Wilson', 'Beaumont', 'Brunt', 'Shrubsole', 'Mady Villiers', 'Ecclestone', 'Glenn'], 'squad_bench': ['Elwiss', 'Kate Cross', 'Freya Davies', 'Winfield']}, 'team2': {'name': 'West Indies Women', 'squad': ['Hayley Matthews', 'Lee-Ann Kirby', 'Taylor', 'Dottin', 'Britney Cooper', 'Campbelle', 'Aaliyah Alleyne', 'Chedean Nation', 'Afy Fletcher', 'Mohammed', 'Selman'], 'squad_bench': ['S Grimmond', 'CA Fraser', 'Shamilia Connell', 'Chinelle Henry']}}, {'id': '22319', 'srs': 'ICC Womens T20 World Cup 2020', 'mnum': '15th Match, Group B', 'type': 'T20', 'mchstate': 'mom', 'status': 'RSA Women won by 17 runs', 'venue_name': 'Sydney Showground Stadium', 'venue_location': 'Sydney, Australia', 'toss': 'South Africa Women elect to bat', 'official': {'umpire1': {'id': '9520', 'name': 'Gregory Brathwaite', 'country': 'WI'}, 'umpire2': {'id': '14344', 'name': 'Kim Cotton', 'country': 'NZ'}, 'umpire3': {'id': '8862', 'name': 'Nitin Menon', 'country': 'IND'}, 'referee': {'id': '11373', 'name': 'GS Lakshmi', 'country': 'IND'}}, 'start_time': '2020-03-01 09:30:00', 'team1': {'name': 'South Africa Women', 'squad': ['Lee', 'van Niekerk', 'Kapp', 'du Preez', 'Wolvaardt', 'Sune Luus', 'Tryon', 'Chetty', 'Ismail', 'Ayabonga Khaka', 'N Mlaba'], 'squad_bench': ['Nadine de Klerk']}, 'team2': {'name': 'Pakistan Women', 'squad': ['Muneeba Ali', 'Javeria Khan', 'Omaima Sohail', 'Nida Dar', 'Aliya Riaz', 'Iram Javed', 'Sidra Nawaz', 'Aiman Anwer', 'Baig', 'Aroob Shah', 'Anam Amin'], 'squad_bench': ['Sadia Iqbal', 'Nahida Khan', 'Fatima Sana', 'Ayesha Naseem']}}, {'id': '22324', 'srs': 'ICC Womens T20 World Cup 2020', 'mnum': '17th Match, Group A', 'type': 'T20', 'mchstate': 'preview', 'status': 'Starts in 13 hrs 04 mins', 'venue_name': 'Junction Oval', 'venue_location': 'Melbourne, Australia', 'toss': '', 'official': None, 'start_time': '2020-03-02 05:30:00', 'team1': {'name': 'Sri Lanka Women', 'squad': [], 'squad_bench': ['Athapaththu', 'Anushka Sanjeewani', 'Umesha Thimashini', 'Madavi', 'Hansima Karunaratne', 'Hasini Perera', 'Siriwardene', 'Nilakshi de Silva', 'Kavisha Dilhari', 'Sandeepani', 'Prabodhani', 'Manodara', 'Ama Kanchana', 'Sugandika Kumari', 'Achini Kulasuriya']}, 'team2': {'name': 'Bangladesh Women', 'squad': [], 'squad_bench': ['Nigar Sultana', 'Salma Khatun', 'Murshida Khatun', 'Ayasha Rahman', 'Ritu Moni', 'Fargana Hoque', 'Rumana Ahmed', 'Fahima Khatun', 'Sobhana Mostary', 'Jahanara Alam', 'Panna Ghosh', 'Sanjida Islam', 'Shamima Sultana', 'Nahida Akter', 'Khadija']}}, {'id': '22326', 'srs': 'ICC Womens T20 World Cup 2020', 'mnum': '18th Match, Group A', 'type': 'T20', 'mchstate': 'preview', 'status': 'Starts in 16 hrs 59 mins', 'venue_name': 'Junction Oval', 'venue_location': 'Melbourne, Australia', 'toss': '', 'official': None, 'start_time': '2020-03-02 09:30:00', 'team1': {'name': 'Australia Women', 'squad': [], 'squad_bench': ['Healy', 'Lanning', 'Mooney', 'Gardner', 'Haynes', 'Perry', 'Sutherland', 'Jonassen', 'Carey', 'Georgia Wareham', 'Schutt', 'Delissa Kimmince', 'Molineux', 'Erin Burns', 'Strano']}, 'team2': {'name': 'New Zealand Women', 'squad': [], 'squad_bench': ['Devine', 'Priest', 'Bates', 'Maddy Green', 'Hayley Jensen', 'Katey Martin', 'Amelia Kerr', 'Anna Peterson', 'Kasperek', 'Tahuhu', 'Rosemary Mair', 'Perkins', 'Huddleston', 'Lauren Down', 'Jess Kerr']}}, {'id': '23911', 'srs': 'Ranji Trophy 2019-20', 'mnum': '2nd Semi-Final', 'type': 'TEST', 'mchstate': 'inprogress', 'status': 'Day 2: 3rd Session - BEN lead by 251 runs', 'venue_name': 'Eden Gardens', 'venue_location': 'Kolkata, India', 'toss': 'Karnataka elect to bowl', 'official': {'umpire1': {'id': '10279', 'name': 'Yeshwant Barde', 'country': 'IND'}, 'umpire2': {'id': '8914', 'name': 'Krishnamachari Srinivasan', 'country': 'IND'}, 'umpire3': {'id': '8294', 'name': 'Anil Chaudhary', 'country': 'IND'}, 'referee': {'id': '9225', 'name': 'Prakash Bhatt', 'country': 'IND'}}, 'start_time': '2020-02-29 09:15:00', 'team1': {'name': 'Bengal', 'squad': ['Abhimanyu Easwaran', 'Abhishek Raman', 'Chatterjee', 'Nandi', 'Manoj Tiwary', 'A Majumdar', 'Goswami', 'Shahbaz Ahmed', 'Mukesh Kumar', 'Ishan Porel', 'Akash Deep'], 'squad_bench': ['Koushik Ghosh', 'Nilkantha Das', 'Dinda', 'Writtick Chatterjee', 'Sayan Ghosh', 'Agniv Pan', 'Shreyan Chakraborty']}, 'team2': {'name': 'Karnataka', 'squad': ['Rahul', 'Devdutt Padikkal', 'Samarth R', 'Nair', 'Siddharth', 'Manish Pandey', 'Sharath', 'Gowtham', 'Mithun', 'R More', 'Prasidh'], 'squad_bench': ['J Suchith', 'Shreyas Gopal', 'Prateek Jain', 'Sharath BR']}}, {'id': '23910', 'srs': 'Ranji Trophy 2019-20', 'mnum': '1st Semi-Final', 'type': 'TEST', 'mchstate': 'inprogress', 'status': 'Day 2: 3rd Session - GUJ trail by 207 runs', 'venue_name': 'Saurashtra Cricket Association Stadium', 'venue_location': 'Rajkot, India', 'toss': 'Gujarat elect to bowl', 'official': {'umpire1': {'id': '8867', 'name': 'Rohan Pandit', 'country': 'IND'}, 'umpire2': {'id': '7498', 'name': 'Sundaram Ravi', 'country': 'IND'}, 'umpire3': {'id': '8613', 'name': 'Chettithody Shamshuddin', 'country': 'IND'}, 'referee': {'id': '8912', 'name': 'Sanjay Verma', 'country': 'IND'}}, 'start_time': '2020-02-29 09:30:00', 'team1': {'name': 'Gujarat', 'squad': ['Samit Gohel', 'Panchal', 'Merai', 'Parthiv Patel', 'Dhruv Raval', 'Gandhi', 'Rujul Bhatt', 'Axar', 'Roosh Kalaria', 'Chintan Gaja', 'Nagwaswalla'], 'squad_bench': ['Juneja', 'Siddharth Desai', 'Chawla', 'Kshitij Patel', 'Kathan Patel', 'Tejas Patel']}, 'team2': {'name': 'Saurashtra', 'squad': ['Harvik Desai', 'Kishan Parmar', 'Barot', 'Vishvaraj Jadeja', 'Jackson', 'Vasavada', 'Chirag Jani', 'Prerak Mankad', 'Dharmendrasinh Jadeja', 'Unadkat', 'Chetan Sakariya'], 'squad_bench': ['Patel', 'Makvana', 'Divyaraj Chauhan', 'Snell Patel', 'Vandit Jivrajani', 'Samarth Vyas']}}, {'id': '23028', 'srs': 'Momentum One Day Cup 2020', 'mnum': '19th Match', 'type': 'ODI', 'mchstate': 'inprogress', 'status': 'KNG opt to bowl', 'venue_name': 'Diamond Oval', 'venue_location': 'Kimberley, South Africa', 'toss': 'Knights elect to bowl', 'official': {'umpire1': {'id': '14551', 'name': 'Philip Vosloo', 'country': 'RSA'}, 'umpire2': {'id': '9776', 'name': 'Brad White', 'country': 'RSA'}, 'referee': {'id': '6926', 'name': 'Barry Lambson', 'country': 'RSA'}}, 'start_time': '2020-03-01 13:30:00', 'team1': {'name': 'Knights', 'squad': ['Gous', 'Jacques Snyman', 'Keegan Petersen', 'Pite van Biljon', 'Wandile Makwetu', 'Mokoena', 'Patrick Kruger', 'von Berg', 'Ottniel Baartman', 'Budaza', 'Marco Jansen'], 'squad_bench': ['van Tonder', 'Pienaar', 'Tshepo Ntuli', 'Corne Dry', 'Gerald Coetzee']}, 'team2': {'name': 'Titans', 'squad': ['Markram', 'Tony de Zorzi', 'Diego Rosier', 'Elgar', 'Thomson', 'Behardien', 'Rivaldo Moonsamy', 'Corbin Bosch', 'Junior Dala', 'Mothoa', 'Manack'], 'squad_bench': ['Neil Brand', 'K Sekhukhune']}}, {'id': '23029', 'srs': 'Momentum One Day Cup 2020', 'mnum': '20th Match', 'type': 'ODI', 'mchstate': 'rain', 'status': 'Rain stops play', 'venue_name': 'New Wanderers Stadium', 'venue_location': 'Johannesburg, South Africa', 'toss': 'Warriors elect to bowl', 'official': {'umpire1': {'id': '9767', 'name': 'Allahudien Paleker', 'country': 'RSA'}, 'umpire2': {'id': '13495', 'name': 'Abdoellah Steenkamp', 'country': 'RSA'}, 'referee': {'id': '7461', 'name': 'Zed Ndamane', 'country': 'RSA'}}, 'start_time': '2020-03-01 13:30:00', 'team1': {'name': 'Lions', 'squad': ['Ryan Rickelton', 'Dominic Hendricks', 'R Hendricks', 'van den Bergh', 'Wihan Lubbe', 'Delano Potgieter', 'Fortuin', 'Myoli', 'Phangiso', 'Eldred Hawken', 'Diseko'], 'squad_bench': ['Kagiso Rapulana', 'Siboto', 'Hendricks', 'Joshua Richards']}, 'team2': {'name': 'Warriors', 'squad': ['Moore', 'Matthew Breetzke', 'Qeshile', 'Ngoepe', 'Birch', 'Jade de Klerk', 'Gqamane', 'Magala', 'Marais', 'Stephan Tait', 'Vallie'], 'squad_bench': ['Nyaku', 'Matthews', 'Sipamla', 'Gihahn Cloete', 'Second', 'Langa', 'Glenton Stuurman']}}, {'id': '23334', 'srs': 'Plunket Shield 2019-20', 'mnum': '14th Match', 'type': 'TEST', 'mchstate': 'stump', 'status': 'Day 1: Stumps', 'venue_name': 'Eden Park Outer Oval', 'venue_location': 'Auckland, New Zealand', 'toss': 'Auckland elect to bowl', 'official': {'umpire1': {'id': '7479', 'name': 'Wayne Knights', 'country': 'NZ'}, 'umpire2': {'id': '10732', 'name': 'Ashley Mehrotra', 'country': 'NZ'}, 'referee': {'id': '11880', 'name': 'Ross Dykes', 'country': 'NZ'}}, 'start_time': '2020-03-01 03:00:00', 'team1': {'name': 'Auckland', 'squad': ['Jeet Raval', 'Guptill', 'Glenn Phillips', 'Chapman', 'Robert ODonnell', 'Solia', 'Ben Horne', 'Ferguson', 'Ben Lister', 'Louis Delport', 'Matt McEwan'], 'squad_bench': ['Jamie Brown']}, 'team2': {'name': 'Northern Knights', 'squad': ['Henry Cooper', 'Seifert', 'Popli', 'Joe Carter', 'Santner', 'Katene Clarke', 'Bocock', 'Kuggeleijn', 'Ish Sodhi', 'Randell', 'James Baker'], 'squad_bench': ['Jake Gibson']}}, {'id': '23333', 'srs': 'Plunket Shield 2019-20', 'mnum': '13th Match', 'type': 'TEST', 'mchstate': 'stump', 'status': 'Day 1: Stumps - WEL lead by 79 runs', 'venue_name': 'Basin Reserve', 'venue_location': 'Wellington, New Zealand', 'toss': 'Wellington elect to bowl', 'official': {'umpire1': {'id': '6842', 'name': 'Billy Bowden', 'country': 'NZ'}, 'umpire2': {'id': '11916', 'name': 'John Dempsey', 'country': 'NZ'}, 'referee': {'id': '12199', 'name': 'K Pulley', 'country': 'NZ'}}, 'start_time': '2020-03-01 03:00:00', 'team1': {'name': 'Wellington', 'squad': ['Rachin Ravindra', 'Fraser Colson', 'Conway', 'Bracewell', 'Neesham', 'Lauchie Johns', 'Jamie Gibson', 'Troy Johnson', 'van Beek', 'McPeake', 'Ben Sears'], 'squad_bench': ['Bennett']}, 'team2': {'name': 'Central Districts', 'squad': ['Greg Hay', 'Worker', 'Will Young', 'Ben Smith', 'Tom Bruce', 'Cleaver', 'Schmulian', 'Willem Ludick', 'Tickner', 'Stefan Hook', 'Raymond Toole'], 'squad_bench': ['Joey Field']}}, {'id': '23335', 'srs': 'Plunket Shield 2019-20', 'mnum': '15th Match', 'type': 'TEST', 'mchstate': 'stump', 'status': 'Day 1: Stumps - CAN trail by 267 runs', 'venue_name': \"Queen's Park\", 'venue_location': 'Invercargill, New Zealand', 'toss': 'Otago elect to bat', 'official': {'umpire1': {'id': '10733', 'name': 'Tim Parlane', 'country': 'NZ'}, 'umpire2': {'id': '7467', 'name': 'Derek Walker', 'country': 'NZ'}, 'referee': {'id': '12181', 'name': 'RE Hayward', 'country': 'NZ'}}, 'start_time': '2020-03-01 03:00:00', 'team1': {'name': 'Otago', 'squad': ['Kitchen', 'Cam Hawkins', 'Broom', 'Nick Kelly', 'Foxcroft', 'Mitch Renwick', 'Rippon', 'Nathan Smith', 'Jacob Duffy', 'Bacon', 'Michael Rae'], 'squad_bench': ['Max Chu']}, 'team2': {'name': 'Canterbury', 'squad': ['Bowes', 'Jack Boyle', 'Murdoch', 'McClure', 'Leo Carter', 'Cam Fletcher', 'Theo van Woerkom', 'Will Williams', 'Matt Henry', 'Andrew Hazeldine', 'Fraser Sheat'], 'squad_bench': ['Sean Davey']}}, {'id': '26916', 'srs': 'England Lions tour of Australia 2020', 'mnum': '3rd unofficial Test', 'type': 'TEST', 'mchstate': 'preview', 'status': 'Starts in 12 hrs 04 mins', 'venue_name': 'North Dalton Park', 'venue_location': 'Wollongong, Australia', 'toss': '', 'official': None, 'start_time': '2020-03-02 04:30:00', 'team1': {'name': 'New South Wales', 'squad': [], 'squad_bench': ['Ryan Gibson', 'Nicholas Bertus', 'Tim Ward', 'Jason Sangha', 'Tyran Liddiard', 'Daniel Sams', 'Arjun Nair', 'Steve OKeefe', 'Ryan Hackney', 'Edwards', 'Ryan Hadley', 'Stobo']}, 'team2': {'name': 'England Lions', 'squad': [], 'squad_bench': ['Jennings', 'James Bracey', 'Sibley', 'Zak Crawley', 'S Northeast', 'Daniel Lawrence', 'Abell', 'Dom Bess', 'Craig Overton', 'Brydon Carse', 'Robinson', 'Samuel Cook', 'Amar Virdi', 'O Robinson', 'Hain']}}]\n"
     ]
    }
   ],
   "source": [
    "print(c.matches())\n"
   ]
  },
  {
   "cell_type": "code",
   "execution_count": 9,
   "metadata": {},
   "outputs": [
    {
     "name": "stdout",
     "output_type": "stream",
     "text": [
      "{'id': '26792', 'srs': 'West Indies tour of Sri Lanka 2020', 'mnum': '3rd ODI', 'type': 'ODI', 'mchstate': 'inprogress', 'status': 'SL opt to bat', 'venue_name': 'Pallekele International Cricket Stadium', 'venue_location': 'Pallekele, Sri Lanka', 'toss': 'Sri Lanka elect to bat', 'official': {'umpire1': {'id': '8572', 'name': 'Raveendra Wimalasiri', 'country': 'SL'}, 'umpire2': {'id': '4758', 'name': 'Paul Wilson', 'country': 'AUS'}, 'umpire3': {'id': '6843', 'name': 'Marais Erasmus', 'country': 'RSA'}, 'referee': {'id': '3894', 'name': 'Javagal Srinath', 'country': 'IND'}}, 'start_time': '2020-03-01 14:30:00', 'team1': {'name': 'Sri Lanka', 'squad': ['Avishka Fernando', 'Karunaratne', 'Kusal Perera', 'Kusal Mendis', 'Perera', 'Mathews', 'Dhananjaya de Silva', 'Hasaranga', 'Udana', 'Sandakan', 'Pradeep'], 'squad_bench': ['Jayasuriya', 'Dickwella', 'Shanaka', 'Kumara']}, 'team2': {'name': 'West Indies', 'squad': ['Shai Hope', 'Ambris', 'Darren Bravo', 'Roston Chase', 'Pooran', 'Pollard', 'Holder', 'Fabian Allen', 'Alzarri Joseph', 'Cottrell', 'Hayden Walsh'], 'squad_bench': ['Keemo Paul', 'Brandon King', 'Powell', 'Romario Shepherd']}}\n"
     ]
    }
   ],
   "source": [
    "print(c.matchinfo('26792'))\n"
   ]
  },
  {
   "cell_type": "code",
   "execution_count": 11,
   "metadata": {},
   "outputs": [
    {
     "name": "stdout",
     "output_type": "stream",
     "text": [
      "{'batting': {'team': 'Sri Lanka', 'score': [{'inning_num': '1', 'runs': '175', 'wickets': '2', 'overs': '30.5', 'declare': None}], 'batsman': [{'name': 'Kusal Mendis', 'runs': '49', 'balls': '43', 'fours': '5', 'six': '1'}, {'name': 'Kusal Perera', 'runs': '44', 'balls': '54', 'fours': '4', 'six': '0'}]}, 'bowling': {'team': 'West Indies', 'score': [], 'bowler': [{'name': 'Alzarri Joseph', 'overs': '4.5', 'maidens': '0', 'runs': '30', 'wickets': '1'}]}}\n"
     ]
    }
   ],
   "source": [
    "print(c.livescore('26792'))\n",
    "d=c.livescore('26792')"
   ]
  },
  {
   "cell_type": "code",
   "execution_count": 12,
   "metadata": {},
   "outputs": [
    {
     "data": {
      "text/plain": [
       "{'team': 'Sri Lanka',\n",
       " 'score': [{'inning_num': '1',\n",
       "   'runs': '175',\n",
       "   'wickets': '2',\n",
       "   'overs': '30.5',\n",
       "   'declare': None}],\n",
       " 'batsman': [{'name': 'Kusal Mendis',\n",
       "   'runs': '49',\n",
       "   'balls': '43',\n",
       "   'fours': '5',\n",
       "   'six': '1'},\n",
       "  {'name': 'Kusal Perera',\n",
       "   'runs': '44',\n",
       "   'balls': '54',\n",
       "   'fours': '4',\n",
       "   'six': '0'}]}"
      ]
     },
     "execution_count": 12,
     "metadata": {},
     "output_type": "execute_result"
    }
   ],
   "source": [
    "d['batting']"
   ]
  },
  {
   "cell_type": "code",
   "execution_count": 17,
   "metadata": {},
   "outputs": [
    {
     "data": {
      "text/plain": [
       "'Kusal Mendis'"
      ]
     },
     "execution_count": 17,
     "metadata": {},
     "output_type": "execute_result"
    }
   ],
   "source": [
    "d['batting']['batsman'][0]['name']"
   ]
  },
  {
   "cell_type": "code",
   "execution_count": 20,
   "metadata": {},
   "outputs": [
    {
     "name": "stdout",
     "output_type": "stream",
     "text": [
      "{'scorecard': [{'batteam': 'Sri Lanka', 'runs': '186', 'wickets': '4', 'overs': '32.4', 'inng_num': '1', 'extras': {'total': '9', 'byes': '0', 'lbyes': '7', 'wides': '2', 'nballs': '0', 'penalty': '0'}, 'batcard': [{'name': 'Avishka Fernando', 'runs': '29', 'balls': '34', 'fours': '5', 'six': '0', 'dismissal': 'c Shai Hope b Alzarri Joseph'}, {'name': 'Karunaratne', 'runs': '44', 'balls': '54', 'fours': '5', 'six': '0', 'dismissal': ' c & b Roston Chase'}, {'name': 'Kusal Perera', 'runs': '44', 'balls': '55', 'fours': '4', 'six': '0', 'dismissal': 'c Shai Hope b Pollard'}, {'name': 'Kusal Mendis', 'runs': '55', 'balls': '48', 'fours': '6', 'six': '1', 'dismissal': 'c Pollard b Alzarri Joseph'}, {'name': 'Mathews', 'runs': '4', 'balls': '3', 'fours': '1', 'six': '0', 'dismissal': 'batting'}, {'name': 'Dhananjaya de Silva', 'runs': '1', 'balls': '2', 'fours': '0', 'six': '0', 'dismissal': 'batting'}], 'bowlteam': 'West Indies', 'bowlcard': [{'name': 'Cottrell', 'overs': '5', 'maidens': '1', 'runs': '24', 'wickets': '0', 'wides': '0', 'nballs': '0'}, {'name': 'Holder', 'overs': '7', 'maidens': '0', 'runs': '38', 'wickets': '0', 'wides': '2', 'nballs': '0'}, {'name': 'Alzarri Joseph', 'overs': '5.4', 'maidens': '0', 'runs': '36', 'wickets': '2', 'wides': '0', 'nballs': '0'}, {'name': 'Roston Chase', 'overs': '10', 'maidens': '0', 'runs': '51', 'wickets': '1', 'wides': '0', 'nballs': '0'}, {'name': 'Hayden Walsh', 'overs': '3', 'maidens': '0', 'runs': '20', 'wickets': '0', 'wides': '0', 'nballs': '0'}, {'name': 'Pollard', 'overs': '2', 'maidens': '0', 'runs': '10', 'wickets': '1', 'wides': '0', 'nballs': '0'}], 'fall_wickets': [{'name': 'Avishka Fernando', 'wkt_num': '1', 'score': '60', 'overs': '10.2'}, {'name': 'Karunaratne', 'wkt_num': '2', 'score': '88', 'overs': '19.1'}, {'name': 'Kusal Perera', 'wkt_num': '3', 'score': '177', 'overs': '31.3'}, {'name': 'Kusal Mendis', 'wkt_num': '4', 'score': '185', 'overs': '32.2'}]}]}\n"
     ]
    }
   ],
   "source": [
    "s=c.scorecard('26792')\n",
    "print(c.scorecard('26792'))"
   ]
  },
  {
   "cell_type": "code",
   "execution_count": 29,
   "metadata": {},
   "outputs": [
    {
     "data": {
      "text/plain": [
       "[{'name': 'Cottrell',\n",
       "  'overs': '5',\n",
       "  'maidens': '1',\n",
       "  'runs': '24',\n",
       "  'wickets': '0',\n",
       "  'wides': '0',\n",
       "  'nballs': '0'},\n",
       " {'name': 'Holder',\n",
       "  'overs': '7',\n",
       "  'maidens': '0',\n",
       "  'runs': '38',\n",
       "  'wickets': '0',\n",
       "  'wides': '2',\n",
       "  'nballs': '0'},\n",
       " {'name': 'Alzarri Joseph',\n",
       "  'overs': '5.4',\n",
       "  'maidens': '0',\n",
       "  'runs': '36',\n",
       "  'wickets': '2',\n",
       "  'wides': '0',\n",
       "  'nballs': '0'},\n",
       " {'name': 'Roston Chase',\n",
       "  'overs': '10',\n",
       "  'maidens': '0',\n",
       "  'runs': '51',\n",
       "  'wickets': '1',\n",
       "  'wides': '0',\n",
       "  'nballs': '0'},\n",
       " {'name': 'Hayden Walsh',\n",
       "  'overs': '3',\n",
       "  'maidens': '0',\n",
       "  'runs': '20',\n",
       "  'wickets': '0',\n",
       "  'wides': '0',\n",
       "  'nballs': '0'},\n",
       " {'name': 'Pollard',\n",
       "  'overs': '2',\n",
       "  'maidens': '0',\n",
       "  'runs': '10',\n",
       "  'wickets': '1',\n",
       "  'wides': '0',\n",
       "  'nballs': '0'}]"
      ]
     },
     "execution_count": 29,
     "metadata": {},
     "output_type": "execute_result"
    }
   ],
   "source": [
    "s['scorecard'][0]['bowlcard']"
   ]
  },
  {
   "cell_type": "code",
   "execution_count": 31,
   "metadata": {},
   "outputs": [
    {
     "name": "stdout",
     "output_type": "stream",
     "text": [
      "{'commentary': [{'comm': \"There's an appeal for leg-before from Pollard. And he's convinced about it enough to take a review. Didn't seem a very close shout to begin with. It's a slower ball that slides in and hits Mathews just below the thigh. So height's an issue. Also it seems to be going down leg. Ball-tracking will be up soon enough to get the confirmation.\", 'over': None}, {'comm': 'Pollard to Mathews, 2 runs, flicked through midwicket, gets it in the gap for two', 'over': '33.4'}, {'comm': 'Fabian Allen is off the field after that diving effort. Apparently has hurt his shoulder', 'over': None}, {'comm': 'Pollard to Dhananjaya de Silva, 1 run, back of a length delivery outside off, punches this to long-on', 'over': '33.3'}, {'comm': 'Pollard to Dhananjaya de Silva, no run, short of length on off, blocked', 'over': '33.2'}, {'comm': 'Pollard to Dhananjaya de Silva, 2 runs, slower ball at the stumps, played with soft hands in between long-on and deep midwicket', 'over': '33.1'}, {'comm': 'Alzarri Joseph to Mathews, no run, good length delivery outside off, defended to cover', 'over': '32.6'}, {'comm': 'Alzarri Joseph to Mathews, no run, full on off, pushed to mid-on', 'over': '32.5'}, {'comm': 'Alzarri Joseph to Dhananjaya de Silva, 1 run, slanted in on middle and leg, clipped to long leg', 'over': '32.4'}, {'comm': 'Alzarri Joseph to Dhananjaya de Silva, no run, good length delivery outside off, left alone', 'over': '32.3'}, {'comm': '<b>Dhananjaya de Silva, right handed bat, comes to the crease</b>', 'over': None}, {'comm': \"Alzarri Joseph to Kusal Mendis, <b>out</b> Caught by Pollard!! Well, what do you know. After being dispatched time and again, it's the short ball that eventually gets rid of Mendis. Although this one's banged in with much more effort by Joseph, so it hurries onto Mendis who flaps his pull towards midwicket. Pollard takes a good catch running to his right. <b>Kusal Mendis c Pollard b Alzarri Joseph 55(48) [4s-6 6s-1]</b>\", 'over': '32.2'}, {'comm': \"Alzarri Joseph to Kusal Mendis, <b>THAT'S OUT!!</b> Caught!!\", 'over': None}, {'comm': 'Alzarri Joseph to Kusal Mendis, <b>FOUR</b>, Joseph continues to be wayward. He doles out leg-stump half-volley and is dispatched with some elegant wristwork from Mendis through midwicket', 'over': '32.1'}, {'comm': 'Pollard to Mathews, no run, short of length delivery on off, tucked to midwicket', 'over': '31.6'}, {'comm': 'Pollard to Mathews, <b>FOUR</b>, clever from Mathews who shuffles inside the line of this short ball and pulls it fine', 'over': '31.5'}, {'comm': 'Pollard to Mathews, no run, back of a length delivery on off, turned to square leg', 'over': '31.4'}, {'comm': '<b>Angelo Mathews, right handed bat, comes to the crease</b>', 'over': None}, {'comm': \"Pollard to Kusal Perera, <b>out</b> Caught by Shai Hope!! After troubling Perera with his off-cutters in the previous over, he's got rid of him now. Pumps his fist in delight while letting out a huge roar. It was another cutter angled away outside off, Perera - who just couldn't get a measure of the delivery with his flat-footed approach - tries to slog-sweep it this time. But it takes the edge to the keeper. <b>Kusal Perera c Shai Hope b Pollard 44(55) [4s-4]</b>\", 'over': '31.3'}, {'comm': \"Pollard to Kusal Perera, <b>THAT'S OUT!!</b> Caught!!\", 'over': None}, {'comm': 'Pollard to Kusal Mendis, 1 run, tucked behind square', 'over': '31.2'}, {'comm': \"Pollard to Kusal Mendis, no run, slower length ball outside off, Mendis defends softly and looks to run. But he's sent back by Perera\", 'over': '31.1'}, {'comm': 'Alzarri Joseph to Kusal Mendis, 1 run, Mendis flicks this off the pad to deep midwicket, raises a <b>fifty</b> to follow his ton in the previous ODI', 'over': '30.6'}, {'comm': 'Alzarri Joseph to Kusal Mendis, no run, short of length around off, blocked', 'over': '30.5'}, {'comm': 'Alzarri Joseph to Kusal Mendis, <b>FOUR</b>, full toss on the pad, Mendis swings it away to the backward square boundary', 'over': '30.4'}, {'comm': 'Alzarri Joseph to Kusal Perera, 1 run, pitched up around off, pushed to mid-off', 'over': '30.3'}, {'comm': 'Alzarri Joseph to Kusal Mendis, 1 run, short of length delivery outside off, dabbed down to third man', 'over': '30.2'}, {'comm': 'Alzarri Joseph to Kusal Mendis, <b>FOUR</b>, Joseph, replacing Holder, catches onto the same bug of bowling short. It sits up for Mendis who nails the pull through midwicket', 'over': '30.1'}, {'comm': '<b>Alzarri Joseph [4.0-0-20-1] is back into the attack</b>', 'over': None}]}\n"
     ]
    }
   ],
   "source": [
    "print(c.commentary('26792'))\n",
    "cv=c.commentary('26792')"
   ]
  },
  {
   "cell_type": "code",
   "execution_count": 37,
   "metadata": {},
   "outputs": [
    {
     "data": {
      "text/plain": [
       "'Pollard to Mathews, 2 runs, flicked through midwicket, gets it in the gap for two'"
      ]
     },
     "execution_count": 37,
     "metadata": {},
     "output_type": "execute_result"
    }
   ],
   "source": [
    "cv['commentary'][1]['comm']#['over']"
   ]
  },
  {
   "cell_type": "code",
   "execution_count": null,
   "metadata": {},
   "outputs": [],
   "source": []
  }
 ],
 "metadata": {
  "kernelspec": {
   "display_name": "Python 3",
   "language": "python",
   "name": "python3"
  },
  "language_info": {
   "codemirror_mode": {
    "name": "ipython",
    "version": 3
   },
   "file_extension": ".py",
   "mimetype": "text/x-python",
   "name": "python",
   "nbconvert_exporter": "python",
   "pygments_lexer": "ipython3",
   "version": "3.7.3"
  }
 },
 "nbformat": 4,
 "nbformat_minor": 2
}
